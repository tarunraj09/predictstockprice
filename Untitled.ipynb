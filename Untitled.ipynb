{
 "cells": [
  {
   "cell_type": "code",
   "execution_count": 1,
   "metadata": {},
   "outputs": [],
   "source": [
    "import pandas as pd\n",
    "import numpy as np"
   ]
  },
  {
   "cell_type": "code",
   "execution_count": 2,
   "metadata": {},
   "outputs": [],
   "source": [
    "data = pd.read_csv('infy24months.csv')"
   ]
  },
  {
   "cell_type": "code",
   "execution_count": 3,
   "metadata": {},
   "outputs": [
    {
     "data": {
      "text/html": [
       "<div>\n",
       "<style scoped>\n",
       "    .dataframe tbody tr th:only-of-type {\n",
       "        vertical-align: middle;\n",
       "    }\n",
       "\n",
       "    .dataframe tbody tr th {\n",
       "        vertical-align: top;\n",
       "    }\n",
       "\n",
       "    .dataframe thead th {\n",
       "        text-align: right;\n",
       "    }\n",
       "</style>\n",
       "<table border=\"1\" class=\"dataframe\">\n",
       "  <thead>\n",
       "    <tr style=\"text-align: right;\">\n",
       "      <th></th>\n",
       "      <th>Symbol</th>\n",
       "      <th>Series</th>\n",
       "      <th>Date</th>\n",
       "      <th>Prev Close</th>\n",
       "      <th>Open</th>\n",
       "      <th>High</th>\n",
       "      <th>Low</th>\n",
       "      <th>Last</th>\n",
       "      <th>Close</th>\n",
       "      <th>VWAP</th>\n",
       "      <th>Volume</th>\n",
       "      <th>Turnover</th>\n",
       "      <th>No. of Trades</th>\n",
       "    </tr>\n",
       "  </thead>\n",
       "  <tbody>\n",
       "    <tr>\n",
       "      <th>0</th>\n",
       "      <td>INFY</td>\n",
       "      <td>EQ</td>\n",
       "      <td>25-Jun-19</td>\n",
       "      <td>745.50</td>\n",
       "      <td>744.0</td>\n",
       "      <td>750.90</td>\n",
       "      <td>737.30</td>\n",
       "      <td>745.45</td>\n",
       "      <td>748.10</td>\n",
       "      <td>744.67</td>\n",
       "      <td>3677911</td>\n",
       "      <td>2738811697</td>\n",
       "      <td>118947</td>\n",
       "    </tr>\n",
       "    <tr>\n",
       "      <th>1</th>\n",
       "      <td>INFY</td>\n",
       "      <td>EQ</td>\n",
       "      <td>26-Jun-19</td>\n",
       "      <td>748.10</td>\n",
       "      <td>743.0</td>\n",
       "      <td>751.45</td>\n",
       "      <td>738.00</td>\n",
       "      <td>739.40</td>\n",
       "      <td>739.20</td>\n",
       "      <td>743.56</td>\n",
       "      <td>5447130</td>\n",
       "      <td>4050265777</td>\n",
       "      <td>98489</td>\n",
       "    </tr>\n",
       "    <tr>\n",
       "      <th>2</th>\n",
       "      <td>INFY</td>\n",
       "      <td>EQ</td>\n",
       "      <td>27-Jun-19</td>\n",
       "      <td>739.20</td>\n",
       "      <td>742.0</td>\n",
       "      <td>744.70</td>\n",
       "      <td>728.15</td>\n",
       "      <td>731.70</td>\n",
       "      <td>730.55</td>\n",
       "      <td>733.31</td>\n",
       "      <td>11122346</td>\n",
       "      <td>8156165447</td>\n",
       "      <td>145135</td>\n",
       "    </tr>\n",
       "    <tr>\n",
       "      <th>3</th>\n",
       "      <td>INFY</td>\n",
       "      <td>EQ</td>\n",
       "      <td>28-Jun-19</td>\n",
       "      <td>730.55</td>\n",
       "      <td>735.5</td>\n",
       "      <td>739.50</td>\n",
       "      <td>728.50</td>\n",
       "      <td>731.70</td>\n",
       "      <td>732.00</td>\n",
       "      <td>732.85</td>\n",
       "      <td>5919494</td>\n",
       "      <td>4338124834</td>\n",
       "      <td>116890</td>\n",
       "    </tr>\n",
       "    <tr>\n",
       "      <th>4</th>\n",
       "      <td>INFY</td>\n",
       "      <td>EQ</td>\n",
       "      <td>01-Jul-19</td>\n",
       "      <td>732.00</td>\n",
       "      <td>735.0</td>\n",
       "      <td>737.50</td>\n",
       "      <td>729.85</td>\n",
       "      <td>731.70</td>\n",
       "      <td>731.30</td>\n",
       "      <td>733.32</td>\n",
       "      <td>3224968</td>\n",
       "      <td>2364922428</td>\n",
       "      <td>101260</td>\n",
       "    </tr>\n",
       "  </tbody>\n",
       "</table>\n",
       "</div>"
      ],
      "text/plain": [
       "  Symbol Series       Date  Prev Close   Open    High     Low    Last   Close  \\\n",
       "0   INFY     EQ  25-Jun-19      745.50  744.0  750.90  737.30  745.45  748.10   \n",
       "1   INFY     EQ  26-Jun-19      748.10  743.0  751.45  738.00  739.40  739.20   \n",
       "2   INFY     EQ  27-Jun-19      739.20  742.0  744.70  728.15  731.70  730.55   \n",
       "3   INFY     EQ  28-Jun-19      730.55  735.5  739.50  728.50  731.70  732.00   \n",
       "4   INFY     EQ  01-Jul-19      732.00  735.0  737.50  729.85  731.70  731.30   \n",
       "\n",
       "     VWAP    Volume    Turnover  No. of Trades  \n",
       "0  744.67   3677911  2738811697         118947  \n",
       "1  743.56   5447130  4050265777          98489  \n",
       "2  733.31  11122346  8156165447         145135  \n",
       "3  732.85   5919494  4338124834         116890  \n",
       "4  733.32   3224968  2364922428         101260  "
      ]
     },
     "execution_count": 3,
     "metadata": {},
     "output_type": "execute_result"
    }
   ],
   "source": [
    "data.head()"
   ]
  },
  {
   "cell_type": "code",
   "execution_count": 4,
   "metadata": {},
   "outputs": [],
   "source": [
    "data.set_index('Date', inplace=True)"
   ]
  },
  {
   "cell_type": "code",
   "execution_count": 5,
   "metadata": {},
   "outputs": [
    {
     "data": {
      "text/plain": [
       "<AxesSubplot:xlabel='Date'>"
      ]
     },
     "execution_count": 5,
     "metadata": {},
     "output_type": "execute_result"
    },
    {
     "data": {
      "image/png": "[encoded data removed]",
      "text/plain": [
       "<Figure size 432x288 with 1 Axes>"
      ]
     },
     "metadata": {
      "needs_background": "light"
     },
     "output_type": "display_data"
    }
   ],
   "source": [
    "data['VWAP'].plot()"
   ]
  },
  {
   "cell_type": "code",
   "execution_count": 6,
   "metadata": {},
   "outputs": [
    {
     "data": {
      "text/plain": [
       "Symbol           0\n",
       "Series           0\n",
       "Prev Close       0\n",
       "Open             0\n",
       "High             0\n",
       "Low              0\n",
       "Last             0\n",
       "Close            0\n",
       "VWAP             0\n",
       "Volume           0\n",
       "Turnover         0\n",
       "No. of Trades    0\n",
       "dtype: int64"
      ]
     },
     "execution_count": 6,
     "metadata": {},
     "output_type": "execute_result"
    }
   ],
   "source": [
    "data.isna().sum()"
   ]
  },
  {
   "cell_type": "code",
   "execution_count": 7,
   "metadata": {},
   "outputs": [
    {
     "data": {
      "text/plain": [
       "Symbol            object\n",
       "Series            object\n",
       "Prev Close       float64\n",
       "Open             float64\n",
       "High             float64\n",
       "Low              float64\n",
       "Last             float64\n",
       "Close            float64\n",
       "VWAP             float64\n",
       "Volume             int64\n",
       "Turnover           int64\n",
       "No. of Trades      int64\n",
       "dtype: object"
      ]
     },
     "execution_count": 7,
     "metadata": {},
     "output_type": "execute_result"
    }
   ],
   "source": [
    "data.dtypes\n"
   ]
  },
  {
   "cell_type": "code",
   "execution_count": 8,
   "metadata": {},
   "outputs": [
    {
     "data": {
      "text/plain": [
       "Index(['Symbol', 'Series', 'Prev Close', 'Open', 'High', 'Low', 'Last',\n",
       "       'Close', 'VWAP', 'Volume', 'Turnover', 'No. of Trades'],\n",
       "      dtype='object')"
      ]
     },
     "execution_count": 8,
     "metadata": {},
     "output_type": "execute_result"
    }
   ],
   "source": [
    "data.columns"
   ]
  },
  {
   "cell_type": "code",
   "execution_count": 9,
   "metadata": {},
   "outputs": [],
   "source": [
    "data.rename(columns={'No. of Trades':'Trades'}, inplace = True)"
   ]
  },
  {
   "cell_type": "code",
   "execution_count": 10,
   "metadata": {},
   "outputs": [],
   "source": [
    "lag_features=['High', 'Low', 'Volume', 'Turnover', 'Trades']\n",
    "window1=3\n",
    "window2=7"
   ]
  },
  {
   "cell_type": "code",
   "execution_count": 11,
   "metadata": {},
   "outputs": [],
   "source": [
    "for feature in lag_features:\n",
    "    data[feature+'mean_3']=data[feature].rolling(window=window1).mean()\n",
    "    data[feature+'mean_7']=data[feature].rolling(window=window2).mean()"
   ]
  },
  {
   "cell_type": "code",
   "execution_count": null,
   "metadata": {},
   "outputs": [],
   "source": []
  },
  {
   "cell_type": "code",
   "execution_count": 12,
   "metadata": {},
   "outputs": [],
   "source": [
    "for feature in lag_features:\n",
    "    data[feature+'std_3']=data[feature].rolling(window=window1).std()\n",
    "    data[feature+'std_7']=data[feature].rolling(window=window2).std()"
   ]
  },
  {
   "cell_type": "code",
   "execution_count": 13,
   "metadata": {},
   "outputs": [
    {
     "data": {
      "text/html": [
       "<div>\n",
       "<style scoped>\n",
       "    .dataframe tbody tr th:only-of-type {\n",
       "        vertical-align: middle;\n",
       "    }\n",
       "\n",
       "    .dataframe tbody tr th {\n",
       "        vertical-align: top;\n",
       "    }\n",
       "\n",
       "    .dataframe thead th {\n",
       "        text-align: right;\n",
       "    }\n",
       "</style>\n",
       "<table border=\"1\" class=\"dataframe\">\n",
       "  <thead>\n",
       "    <tr style=\"text-align: right;\">\n",
       "      <th></th>\n",
       "      <th>Symbol</th>\n",
       "      <th>Series</th>\n",
       "      <th>Prev Close</th>\n",
       "      <th>Open</th>\n",
       "      <th>High</th>\n",
       "      <th>Low</th>\n",
       "      <th>Last</th>\n",
       "      <th>Close</th>\n",
       "      <th>VWAP</th>\n",
       "      <th>Volume</th>\n",
       "      <th>...</th>\n",
       "      <th>Highstd_3</th>\n",
       "      <th>Highstd_7</th>\n",
       "      <th>Lowstd_3</th>\n",
       "      <th>Lowstd_7</th>\n",
       "      <th>Volumestd_3</th>\n",
       "      <th>Volumestd_7</th>\n",
       "      <th>Turnoverstd_3</th>\n",
       "      <th>Turnoverstd_7</th>\n",
       "      <th>Tradesstd_3</th>\n",
       "      <th>Tradesstd_7</th>\n",
       "    </tr>\n",
       "    <tr>\n",
       "      <th>Date</th>\n",
       "      <th></th>\n",
       "      <th></th>\n",
       "      <th></th>\n",
       "      <th></th>\n",
       "      <th></th>\n",
       "      <th></th>\n",
       "      <th></th>\n",
       "      <th></th>\n",
       "      <th></th>\n",
       "      <th></th>\n",
       "      <th></th>\n",
       "      <th></th>\n",
       "      <th></th>\n",
       "      <th></th>\n",
       "      <th></th>\n",
       "      <th></th>\n",
       "      <th></th>\n",
       "      <th></th>\n",
       "      <th></th>\n",
       "      <th></th>\n",
       "      <th></th>\n",
       "    </tr>\n",
       "  </thead>\n",
       "  <tbody>\n",
       "    <tr>\n",
       "      <th>25-Jun-19</th>\n",
       "      <td>INFY</td>\n",
       "      <td>EQ</td>\n",
       "      <td>745.50</td>\n",
       "      <td>744.0</td>\n",
       "      <td>750.90</td>\n",
       "      <td>737.30</td>\n",
       "      <td>745.45</td>\n",
       "      <td>748.10</td>\n",
       "      <td>744.67</td>\n",
       "      <td>3677911</td>\n",
       "      <td>...</td>\n",
       "      <td>NaN</td>\n",
       "      <td>NaN</td>\n",
       "      <td>NaN</td>\n",
       "      <td>NaN</td>\n",
       "      <td>NaN</td>\n",
       "      <td>NaN</td>\n",
       "      <td>NaN</td>\n",
       "      <td>NaN</td>\n",
       "      <td>NaN</td>\n",
       "      <td>NaN</td>\n",
       "    </tr>\n",
       "    <tr>\n",
       "      <th>26-Jun-19</th>\n",
       "      <td>INFY</td>\n",
       "      <td>EQ</td>\n",
       "      <td>748.10</td>\n",
       "      <td>743.0</td>\n",
       "      <td>751.45</td>\n",
       "      <td>738.00</td>\n",
       "      <td>739.40</td>\n",
       "      <td>739.20</td>\n",
       "      <td>743.56</td>\n",
       "      <td>5447130</td>\n",
       "      <td>...</td>\n",
       "      <td>NaN</td>\n",
       "      <td>NaN</td>\n",
       "      <td>NaN</td>\n",
       "      <td>NaN</td>\n",
       "      <td>NaN</td>\n",
       "      <td>NaN</td>\n",
       "      <td>NaN</td>\n",
       "      <td>NaN</td>\n",
       "      <td>NaN</td>\n",
       "      <td>NaN</td>\n",
       "    </tr>\n",
       "    <tr>\n",
       "      <th>27-Jun-19</th>\n",
       "      <td>INFY</td>\n",
       "      <td>EQ</td>\n",
       "      <td>739.20</td>\n",
       "      <td>742.0</td>\n",
       "      <td>744.70</td>\n",
       "      <td>728.15</td>\n",
       "      <td>731.70</td>\n",
       "      <td>730.55</td>\n",
       "      <td>733.31</td>\n",
       "      <td>11122346</td>\n",
       "      <td>...</td>\n",
       "      <td>3.748444</td>\n",
       "      <td>NaN</td>\n",
       "      <td>5.495983</td>\n",
       "      <td>NaN</td>\n",
       "      <td>3.889255e+06</td>\n",
       "      <td>NaN</td>\n",
       "      <td>2.826247e+09</td>\n",
       "      <td>NaN</td>\n",
       "      <td>23381.582581</td>\n",
       "      <td>NaN</td>\n",
       "    </tr>\n",
       "    <tr>\n",
       "      <th>28-Jun-19</th>\n",
       "      <td>INFY</td>\n",
       "      <td>EQ</td>\n",
       "      <td>730.55</td>\n",
       "      <td>735.5</td>\n",
       "      <td>739.50</td>\n",
       "      <td>728.50</td>\n",
       "      <td>731.70</td>\n",
       "      <td>732.00</td>\n",
       "      <td>732.85</td>\n",
       "      <td>5919494</td>\n",
       "      <td>...</td>\n",
       "      <td>5.991730</td>\n",
       "      <td>NaN</td>\n",
       "      <td>5.588604</td>\n",
       "      <td>NaN</td>\n",
       "      <td>3.149097e+06</td>\n",
       "      <td>NaN</td>\n",
       "      <td>2.291968e+09</td>\n",
       "      <td>NaN</td>\n",
       "      <td>23495.482339</td>\n",
       "      <td>NaN</td>\n",
       "    </tr>\n",
       "    <tr>\n",
       "      <th>01-Jul-19</th>\n",
       "      <td>INFY</td>\n",
       "      <td>EQ</td>\n",
       "      <td>732.00</td>\n",
       "      <td>735.0</td>\n",
       "      <td>737.50</td>\n",
       "      <td>729.85</td>\n",
       "      <td>731.70</td>\n",
       "      <td>731.30</td>\n",
       "      <td>733.32</td>\n",
       "      <td>3224968</td>\n",
       "      <td>...</td>\n",
       "      <td>3.716629</td>\n",
       "      <td>NaN</td>\n",
       "      <td>0.897682</td>\n",
       "      <td>NaN</td>\n",
       "      <td>4.014530e+06</td>\n",
       "      <td>NaN</td>\n",
       "      <td>2.944188e+09</td>\n",
       "      <td>NaN</td>\n",
       "      <td>22237.702782</td>\n",
       "      <td>NaN</td>\n",
       "    </tr>\n",
       "  </tbody>\n",
       "</table>\n",
       "<p>5 rows × 32 columns</p>\n",
       "</div>"
      ],
      "text/plain": [
       "          Symbol Series  Prev Close   Open    High     Low    Last   Close  \\\n",
       "Date                                                                         \n",
       "25-Jun-19   INFY     EQ      745.50  744.0  750.90  737.30  745.45  748.10   \n",
       "26-Jun-19   INFY     EQ      748.10  743.0  751.45  738.00  739.40  739.20   \n",
       "27-Jun-19   INFY     EQ      739.20  742.0  744.70  728.15  731.70  730.55   \n",
       "28-Jun-19   INFY     EQ      730.55  735.5  739.50  728.50  731.70  732.00   \n",
       "01-Jul-19   INFY     EQ      732.00  735.0  737.50  729.85  731.70  731.30   \n",
       "\n",
       "             VWAP    Volume  ...  Highstd_3  Highstd_7  Lowstd_3  Lowstd_7  \\\n",
       "Date                         ...                                             \n",
       "25-Jun-19  744.67   3677911  ...        NaN        NaN       NaN       NaN   \n",
       "26-Jun-19  743.56   5447130  ...        NaN        NaN       NaN       NaN   \n",
       "27-Jun-19  733.31  11122346  ...   3.748444        NaN  5.495983       NaN   \n",
       "28-Jun-19  732.85   5919494  ...   5.991730        NaN  5.588604       NaN   \n",
       "01-Jul-19  733.32   3224968  ...   3.716629        NaN  0.897682       NaN   \n",
       "\n",
       "            Volumestd_3  Volumestd_7  Turnoverstd_3  Turnoverstd_7  \\\n",
       "Date                                                                 \n",
       "25-Jun-19           NaN          NaN            NaN            NaN   \n",
       "26-Jun-19           NaN          NaN            NaN            NaN   \n",
       "27-Jun-19  3.889255e+06          NaN   2.826247e+09            NaN   \n",
       "28-Jun-19  3.149097e+06          NaN   2.291968e+09            NaN   \n",
       "01-Jul-19  4.014530e+06          NaN   2.944188e+09            NaN   \n",
       "\n",
       "            Tradesstd_3  Tradesstd_7  \n",
       "Date                                  \n",
       "25-Jun-19           NaN          NaN  \n",
       "26-Jun-19           NaN          NaN  \n",
       "27-Jun-19  23381.582581          NaN  \n",
       "28-Jun-19  23495.482339          NaN  \n",
       "01-Jul-19  22237.702782          NaN  \n",
       "\n",
       "[5 rows x 32 columns]"
      ]
     },
     "execution_count": 13,
     "metadata": {},
     "output_type": "execute_result"
    }
   ],
   "source": [
    "data.head()"
   ]
  },
  {
   "cell_type": "code",
   "execution_count": 14,
   "metadata": {},
   "outputs": [
    {
     "data": {
      "text/plain": [
       "Symbol            0\n",
       "Series            0\n",
       "Prev Close        0\n",
       "Open              0\n",
       "High              0\n",
       "Low               0\n",
       "Last              0\n",
       "Close             0\n",
       "VWAP              0\n",
       "Volume            0\n",
       "Turnover          0\n",
       "Trades            0\n",
       "Highmean_3        2\n",
       "Highmean_7        6\n",
       "Lowmean_3         2\n",
       "Lowmean_7         6\n",
       "Volumemean_3      2\n",
       "Volumemean_7      6\n",
       "Turnovermean_3    2\n",
       "Turnovermean_7    6\n",
       "Tradesmean_3      2\n",
       "Tradesmean_7      6\n",
       "Highstd_3         2\n",
       "Highstd_7         6\n",
       "Lowstd_3          2\n",
       "Lowstd_7          6\n",
       "Volumestd_3       2\n",
       "Volumestd_7       6\n",
       "Turnoverstd_3     2\n",
       "Turnoverstd_7     6\n",
       "Tradesstd_3       2\n",
       "Tradesstd_7       6\n",
       "dtype: int64"
      ]
     },
     "execution_count": 14,
     "metadata": {},
     "output_type": "execute_result"
    }
   ],
   "source": [
    "data.isna().sum()"
   ]
  },
  {
   "cell_type": "code",
   "execution_count": 15,
   "metadata": {},
   "outputs": [],
   "source": [
    "data.dropna(inplace=True)"
   ]
  },
  {
   "cell_type": "code",
   "execution_count": 16,
   "metadata": {},
   "outputs": [
    {
     "data": {
      "text/plain": [
       "(490, 32)"
      ]
     },
     "execution_count": 16,
     "metadata": {},
     "output_type": "execute_result"
    }
   ],
   "source": [
    "data.shape"
   ]
  },
  {
   "cell_type": "code",
   "execution_count": 17,
   "metadata": {},
   "outputs": [],
   "source": [
    "train_data=data[0:390]\n",
    "test_data = data[390:]"
   ]
  },
  {
   "cell_type": "code",
   "execution_count": 18,
   "metadata": {},
   "outputs": [],
   "source": [
    "from pmdarima import auto_arima"
   ]
  },
  {
   "cell_type": "code",
   "execution_count": 19,
   "metadata": {},
   "outputs": [],
   "source": [
    "train_features=['Highmean_3',\n",
    "       'Highmean_7', 'Lowmean_3', 'Lowmean_7', 'Volumemean_3', 'Volumemean_7',\n",
    "       'Turnovermean_3', 'Turnovermean_7', 'Tradesmean_3', 'Tradesmean_7',\n",
    "       'Highstd_3', 'Highstd_7', 'Lowstd_3', 'Lowstd_7', 'Volumestd_3',\n",
    "       'Volumestd_7', 'Turnoverstd_3', 'Turnoverstd_7', 'Tradesstd_3',\n",
    "       'Tradesstd_7']"
   ]
  },
  {
   "cell_type": "code",
   "execution_count": 20,
   "metadata": {},
   "outputs": [
    {
     "name": "stdout",
     "output_type": "stream",
     "text": [
      "Performing stepwise search to minimize aic\n",
      " ARIMA(2,0,2)(0,0,0)[0] intercept   : AIC=2906.233, Time=2.74 sec\n",
      " ARIMA(0,0,0)(0,0,0)[0] intercept   : AIC=2986.682, Time=1.90 sec\n",
      " ARIMA(1,0,0)(0,0,0)[0] intercept   : AIC=2944.536, Time=1.77 sec\n",
      " ARIMA(0,0,1)(0,0,0)[0] intercept   : AIC=2917.571, Time=2.33 sec\n",
      " ARIMA(0,0,0)(0,0,0)[0]             : AIC=4922.511, Time=1.58 sec\n",
      " ARIMA(1,0,2)(0,0,0)[0] intercept   : AIC=2912.013, Time=2.29 sec\n",
      " ARIMA(2,0,1)(0,0,0)[0] intercept   : AIC=2907.841, Time=2.18 sec\n",
      " ARIMA(3,0,2)(0,0,0)[0] intercept   : AIC=2904.081, Time=2.57 sec\n",
      " ARIMA(3,0,1)(0,0,0)[0] intercept   : AIC=2910.959, Time=2.33 sec\n",
      " ARIMA(4,0,2)(0,0,0)[0] intercept   : AIC=2906.143, Time=2.46 sec\n",
      " ARIMA(3,0,3)(0,0,0)[0] intercept   : AIC=2907.399, Time=2.45 sec\n",
      " ARIMA(2,0,3)(0,0,0)[0] intercept   : AIC=2903.782, Time=2.44 sec\n",
      " ARIMA(1,0,3)(0,0,0)[0] intercept   : AIC=2905.308, Time=2.27 sec\n",
      " ARIMA(2,0,4)(0,0,0)[0] intercept   : AIC=2906.244, Time=2.67 sec\n",
      " ARIMA(1,0,4)(0,0,0)[0] intercept   : AIC=2904.677, Time=2.65 sec\n",
      " ARIMA(3,0,4)(0,0,0)[0] intercept   : AIC=2906.741, Time=2.83 sec\n",
      " ARIMA(2,0,3)(0,0,0)[0]             : AIC=2901.664, Time=2.63 sec\n",
      " ARIMA(1,0,3)(0,0,0)[0]             : AIC=2903.179, Time=2.52 sec\n",
      " ARIMA(2,0,2)(0,0,0)[0]             : AIC=2904.191, Time=2.59 sec\n",
      " ARIMA(3,0,3)(0,0,0)[0]             : AIC=2905.426, Time=2.38 sec\n",
      " ARIMA(2,0,4)(0,0,0)[0]             : AIC=2904.215, Time=2.53 sec\n",
      " ARIMA(1,0,2)(0,0,0)[0]             : AIC=2909.423, Time=2.13 sec\n",
      " ARIMA(1,0,4)(0,0,0)[0]             : AIC=2902.612, Time=2.33 sec\n",
      " ARIMA(3,0,2)(0,0,0)[0]             : AIC=2902.122, Time=2.49 sec\n",
      " ARIMA(3,0,4)(0,0,0)[0]             : AIC=2904.743, Time=2.88 sec\n",
      "\n",
      "Best model:  ARIMA(2,0,3)(0,0,0)[0]          \n",
      "Total fit time: 60.089 seconds\n"
     ]
    }
   ],
   "source": [
    "model=auto_arima(y=train_data['VWAP'],exogenous=train_data[train_features],trace=True)"
   ]
  },
  {
   "cell_type": "code",
   "execution_count": 21,
   "metadata": {},
   "outputs": [
    {
     "data": {
      "text/plain": [
       "ARIMA(order=(2, 0, 3), scoring_args={}, suppress_warnings=True,\n",
       "      with_intercept=False)"
      ]
     },
     "execution_count": 21,
     "metadata": {},
     "output_type": "execute_result"
    }
   ],
   "source": [
    "model.fit(train_data['VWAP'], train_data[train_features])"
   ]
  },
  {
   "cell_type": "code",
   "execution_count": 22,
   "metadata": {},
   "outputs": [],
   "source": [
    "import warnings\n",
    "warnings.filterwarnings('ignore')"
   ]
  },
  {
   "cell_type": "code",
   "execution_count": 23,
   "metadata": {},
   "outputs": [],
   "source": [
    "forecast=model.predict(n_periods=len(test_data), exogenous=test_data[train_features])"
   ]
  },
  {
   "cell_type": "code",
   "execution_count": 24,
   "metadata": {},
   "outputs": [],
   "source": [
    "test_data['Forecast_ARIMA']=forecast"
   ]
  },
  {
   "cell_type": "code",
   "execution_count": 25,
   "metadata": {},
   "outputs": [
    {
     "data": {
      "text/plain": [
       "<AxesSubplot:xlabel='Date'>"
      ]
     },
     "execution_count": 25,
     "metadata": {},
     "output_type": "execute_result"
    },
    {
     "data": {
      "image/png": "[encoded data removed]",
      "text/plain": [
       "<Figure size 1008x504 with 1 Axes>"
      ]
     },
     "metadata": {
      "needs_background": "light"
     },
     "output_type": "display_data"
    }
   ],
   "source": [
    "test_data[['VWAP','Forecast_ARIMA']].plot(figsize=(14,7))"
   ]
  },
  {
   "cell_type": "code",
   "execution_count": 26,
   "metadata": {},
   "outputs": [],
   "source": [
    "forecast2 = model.predict(n_periods=len(data), exogenous=data[train_features])"
   ]
  },
  {
   "cell_type": "code",
   "execution_count": 27,
   "metadata": {},
   "outputs": [],
   "source": [
    "from sklearn.metrics import mean_absolute_error, mean_squared_error"
   ]
  },
  {
   "cell_type": "code",
   "execution_count": 28,
   "metadata": {},
   "outputs": [
    {
     "data": {
      "text/plain": [
       "12.60074414144248"
      ]
     },
     "execution_count": 28,
     "metadata": {},
     "output_type": "execute_result"
    }
   ],
   "source": [
    "np.sqrt(mean_squared_error(test_data['VWAP'], test_data['Forecast_ARIMA']))"
   ]
  },
  {
   "cell_type": "code",
   "execution_count": 29,
   "metadata": {},
   "outputs": [
    {
     "data": {
      "text/plain": [
       "9.583721100607178"
      ]
     },
     "execution_count": 29,
     "metadata": {},
     "output_type": "execute_result"
    }
   ],
   "source": [
    "mean_absolute_error(test_data['VWAP'],test_data['Forecast_ARIMA'])"
   ]
  },
  {
   "cell_type": "code",
   "execution_count": null,
   "metadata": {},
   "outputs": [],
   "source": []
  },
  {
   "cell_type": "code",
   "execution_count": null,
   "metadata": {},
   "outputs": [],
   "source": []
  },
  {
   "cell_type": "code",
   "execution_count": null,
   "metadata": {},
   "outputs": [],
   "source": []
  },
  {
   "cell_type": "code",
   "execution_count": null,
   "metadata": {},
   "outputs": [],
   "source": []
  },
  {
   "cell_type": "code",
   "execution_count": null,
   "metadata": {},
   "outputs": [],
   "source": []
  },
  {
   "cell_type": "code",
   "execution_count": null,
   "metadata": {},
   "outputs": [],
   "source": []
  }
 ],
 "metadata": {
  "kernelspec": {
   "display_name": "Python 3",
   "language": "python",
   "name": "python3"
  },
  "language_info": {
   "codemirror_mode": {
    "name": "ipython",
    "version": 3
   },
   "file_extension": ".py",
   "mimetype": "text/x-python",
   "name": "python",
   "nbconvert_exporter": "python",
   "pygments_lexer": "ipython3",
   "version": "3.8.5"
  }
 },
 "nbformat": 4,
 "nbformat_minor": 4
}
